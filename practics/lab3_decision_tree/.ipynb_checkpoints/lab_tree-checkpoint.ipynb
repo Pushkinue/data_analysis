{
 "cells": [
  {
   "cell_type": "markdown",
   "metadata": {},
   "source": [
    "# Решающее дерево"
   ]
  },
  {
   "cell_type": "markdown",
   "metadata": {},
   "source": [
    "Отметим, что решающее дерево состоит из вершин, в которых записывает некоторое условие, а в листах дерева - прогноз. Условия во внутренних вершинах выбираются простыми. Наиболее частый вариант - проверка лежит ли значение некоторого признака $x^j$ левее порога $t$:\n",
    "\n",
    "$[x^j \\leq t]$\n",
    "\n",
    "Легко заметить, что такое условие зависит только от одного признака. Прогноз в листе является вещественным числом, если решается задача регрессии. Если же решается задача классификации, то в качестве прогноза выступает или класс или распределение вероятностей классов.\n",
    "\n",
    "Запишем некоторую функцию ошибки следующим образом: есть набор данных $X_m$, есть номер рассматриваемого признака $j$ и есть порог $t$.\n",
    "\n",
    "$L(X_m, j, t) \\rightarrow \\underset{j,t}{min}$\n",
    "\n",
    "Осуществим перебор всех возможных признаков $j$ и порогов $t$ для этих признаков. Каждый раз исходное множество будет разбиваться на два подмножества:\n",
    "\n",
    "$X_l = \\{x \\in X_m | [ x^j \\leq t ] \\}$ и $X_к = \\{x \\in X_m | [ x^j > t ] \\}$\n",
    "\n",
    "Такую процедуру можно продолжить для каждого получившегося множества (рекурсивно вызывать функцию деления для получающихся подмножеств).\n",
    "\n",
    "Необходимо отметить, что если вершина была объявлена листом, необходимо сделать прогноз для этого листа. Для задачи регрессии берется среднее значение по этой выборке,\n",
    "для задачи классификации возвращается тот класс, которые наиболее популярен в выборке. Можно указывать вероятность классов в листе.\n",
    "\n",
    "Для каждого разбиения необходимо расчитывать функцию потерь:\n",
    "\n",
    "$L(X_m, j, t) = \\frac{|X_l|}{|X_m|}H(X_l) + \\frac{|X_r|}{|X_m|}H(X_r)$,\n",
    "\n",
    "где $H(X)=\\sum\\limits_{k=1}^{K} p_k(1 - p_k)$ - критерий информативности Джинни.\n",
    "\n",
    "$p_k$ - доля объектов класса $k$ в выборке X:\n",
    "\n",
    "$p_k=\\frac{1}{|X|}\\sum\\limits_{i \\in X}{[y_i = k]}$\n",
    "\n",
    "В задаче работаем только с числовыми данными и строим дерево классификации.\n",
    "\n",
    "Данные сгенерированы случайным образом."
   ]
  },
  {
   "cell_type": "code",
   "execution_count": 1,
   "metadata": {},
   "outputs": [],
   "source": [
    "from sklearn.datasets import make_blobs, make_moons\n",
    "import matplotlib.pyplot as plt\n",
    "import numpy as np\n",
    "%matplotlib inline"
   ]
  },
  {
   "cell_type": "code",
   "execution_count": 2,
   "metadata": {},
   "outputs": [
    {
     "data": {
      "text/plain": [
       "<matplotlib.collections.PathCollection at 0x7f0f61051668>"
      ]
     },
     "execution_count": 2,
     "metadata": {},
     "output_type": "execute_result"
    },
    {
     "data": {
      "image/png": "[encoded data removed]",
      "text/plain": [
       "<Figure size 432x288 with 1 Axes>"
      ]
     },
     "metadata": {},
     "output_type": "display_data"
    }
   ],
   "source": [
    "x, y = make_moons(n_samples=100, noise=0.1, random_state=0)\n",
    "plt.scatter(x[:,0], x[:,1], c = y)"
   ]
  },
  {
   "cell_type": "markdown",
   "metadata": {},
   "source": [
    "\n",
    "## Задание 1\n",
    "\n",
    "Напишите функцию, которая получает на вход матрицу данных ($x$) и целевые переменные ($y$), на выходе функция возвращает номер признака ($i$), порог разбиения($t$), значение в листовой вершине слева ($y_l$) и значение в листовой вершине справа ($y_r$).\n",
    "Постарайтесь учесть, что пороги разбиения должны лежать строго по середине между ближайшими обектами.\n",
    "\n",
    "Необходимо учесть:\n",
    "\n",
    "1. Разбиений не требуется, если в получившемся множестве находятся объекты одного класса.\n",
    "2. Количество различных классов объектов в целевой переменной может быть больше двух.\n"
   ]
  },
  {
   "cell_type": "code",
   "execution_count": 3,
   "metadata": {},
   "outputs": [],
   "source": [
    "import collections\n",
    "\n",
    "def gini_func(y):\n",
    "    class_counter = collections.Counter(y)\n",
    "    count = len(y)\n",
    "    gini_dict = dict()\n",
    "    \n",
    "    # Считаем доли объектов классов в y, записываем в gini_dict\n",
    "    for label in class_counter:\n",
    "        p_label = class_counter[label] / count\n",
    "        gini_dict[label] = p_label\n",
    "        \n",
    "    # Считаем критерий Джинни\n",
    "    gini_coef = 0\n",
    "    for label in class_counter:\n",
    "        gini_coef += gini_dict[label] * (1 - gini_dict[label])\n",
    "        \n",
    "    return gini_coef"
   ]
  },
  {
   "cell_type": "code",
   "execution_count": 4,
   "metadata": {},
   "outputs": [],
   "source": [
    "# Функция потерь\n",
    "def loss_func(y_l, y_r):\n",
    "    \n",
    "    count = len(y_l) + len(y_r)\n",
    "    \n",
    "    left = len(y_l) * gini_func(y_l) / count\n",
    "    right = len(y_r) * gini_func(y_r) / count\n",
    "    \n",
    "    return left + right"
   ]
  },
  {
   "cell_type": "code",
   "execution_count": 5,
   "metadata": {},
   "outputs": [],
   "source": [
    "def data_split(x, y):\n",
    "    \n",
    "    # Переменные, в которые мы сохраним наилучший результат\n",
    "    best_dict = { 'j' : -1,\n",
    "                 'min_loss' : 1, \n",
    "                 't' : x.min() - 1\n",
    "                }\n",
    "    \n",
    "    # Перебор по признаку\n",
    "    for j in (0, x.shape[1] - 1):\n",
    "        # Перебор t\n",
    "        for t in np.linspace(x.min(), x.max(), num=x.shape[0]):\n",
    "            y_l = [y[index] for index, a in enumerate(x) if a[j] <= t]\n",
    "            y_r = [y[index] for index, a in enumerate(x) if a[j] > t]\n",
    "            loss = loss_func(y_l, y_r)\n",
    "            \n",
    "            # Фиксирование наилучшего результата\n",
    "            if loss < best_dict['min_loss']:\n",
    "                best_dict['min_loss'] = loss\n",
    "                best_dict['t'] = t\n",
    "                best_dict['j'] = j\n",
    "    \n",
    "    # Формируем \n",
    "    \n",
    "    x_l = np.array([a for a in x if a[best_dict['j']] <= best_dict['t']])\n",
    "    x_r = np.array([a for a in x if a[best_dict['j']] > best_dict['t']])\n",
    "    \n",
    "    y_l = np.array([y[index] for index, a in enumerate(x) if a[best_dict['j']] <= best_dict['t']])\n",
    "    y_r = np.array([y[index] for index, a in enumerate(x) if a[best_dict['j']] > best_dict['t']])\n",
    "    \n",
    "    return best_dict, x_l, x_r, y_l, y_r"
   ]
  },
  {
   "cell_type": "code",
   "execution_count": 6,
   "metadata": {},
   "outputs": [
    {
     "data": {
      "text/plain": [
       "{'j': 1, 'min_loss': 0.23723723723723716, 't': 0.01688506766363629}"
      ]
     },
     "execution_count": 6,
     "metadata": {},
     "output_type": "execute_result"
    }
   ],
   "source": [
    "best_dict, x_l, x_r, y_l, y_r = data_split(x, y)\n",
    "best_dict"
   ]
  },
  {
   "cell_type": "code",
   "execution_count": 7,
   "metadata": {},
   "outputs": [
    {
     "name": "stdout",
     "output_type": "stream",
     "text": [
      "[1 1 1 1 1 1 1 0 1 1 1 1 1 1 1 1 1 1 1 1 1 1 1 1 1 1 1 1 1 1 1 1 1 1 1 1 1]\n",
      "\n",
      "[0 0 1 1 0 1 1 1 0 0 0 0 0 0 0 0 0 0 0 1 1 0 0 1 0 0 0 0 0 0 0 0 0 0 0 0 1\n",
      " 0 0 0 1 0 0 0 0 0 0 0 1 1 0 1 0 0 0 0 0 0 0 0 1 0 0]\n"
     ]
    }
   ],
   "source": [
    "print(y_l)\n",
    "print()\n",
    "print(y_r)"
   ]
  },
  {
   "cell_type": "markdown",
   "metadata": {},
   "source": [
    "После первого разбиения мы считаем, что в листе дерева будет находиться класс объектов, которых больше всего в этом множестве. Реализуйте классификатор дерева решений в виде функции, которая получает на вход признаки объекта - $x$, на выходе метка класса - $y_{pred}$. Величину порога деления возьмите с точностью до 5 знака после запятой.\n",
    "\n",
    "Визуализируйте получившиеся результаты классификатора на плоскости. Для этого воспользуйтесь кодом ниже, чтобы построить поверхность. $t$ - порог разбиения $i$ - номер признака."
   ]
  },
  {
   "cell_type": "code",
   "execution_count": 8,
   "metadata": {},
   "outputs": [],
   "source": [
    "def tree_clf(x):\n",
    "    y_pred = list()  \n",
    "    for it in x.transpose():\n",
    "        # Алгоритм классификации\n",
    "        if it[best_dict['j']] <= best_dict['t']:\n",
    "            y_pred.append(1)\n",
    "        else:\n",
    "            y_pred.append(0)\n",
    "    return np.array(y_pred)"
   ]
  },
  {
   "cell_type": "code",
   "execution_count": 9,
   "metadata": {},
   "outputs": [
    {
     "data": {
      "text/plain": [
       "<matplotlib.collections.PathCollection at 0x7f0f60f87f60>"
      ]
     },
     "execution_count": 9,
     "metadata": {},
     "output_type": "execute_result"
    },
    {
     "data": {
      "image/png": "[encoded data removed]",
      "text/plain": [
       "<Figure size 432x288 with 1 Axes>"
      ]
     },
     "metadata": {},
     "output_type": "display_data"
    }
   ],
   "source": [
    "h = .02\n",
    "x0_min, x0_max = np.min(x[:,0]) - 1, np.max(x[:,0]) + 1\n",
    "x1_min, x1_max = np.min(x[:,1]) - 1, np.max(x[:,1]) + 1\n",
    "xx0, xx1 = np.meshgrid(np.arange(x0_min, x0_max, h),\n",
    "                         np.arange(x1_min, x1_max, h))\n",
    "\n",
    "Z = tree_clf(np.stack((xx0.ravel(),xx1.ravel())))\n",
    "\n",
    "Z = Z.reshape(xx0.shape)\n",
    "cm = plt.cm.RdBu\n",
    "\n",
    "plt.contourf(xx0, xx1, Z, cmap=cm, alpha=.8)\n",
    "plt.scatter(x[:,0], x[:,1], c = y)"
   ]
  },
  {
   "cell_type": "code",
   "execution_count": 10,
   "metadata": {},
   "outputs": [
    {
     "data": {
      "text/plain": [
       "{'j': 0, 'min_loss': 0.0, 't': -0.9141734162358436}"
      ]
     },
     "execution_count": 10,
     "metadata": {},
     "output_type": "execute_result"
    }
   ],
   "source": [
    "best_dict_1, x_l_1, x_r_1, y_l_1, y_r_1 = data_split(x_l, y_l)\n",
    "best_dict_1"
   ]
  },
  {
   "cell_type": "markdown",
   "metadata": {},
   "source": [
    "Проведите процесс разбиение в получившихся листах дерева до глубины 2. Перепишите функцию классификатора. Визуализируйте результаты классификации."
   ]
  },
  {
   "cell_type": "code",
   "execution_count": 11,
   "metadata": {},
   "outputs": [
    {
     "name": "stdout",
     "output_type": "stream",
     "text": [
      "[0]\n",
      "\n",
      "[1 1 1 1 1 1 1 1 1 1 1 1 1 1 1 1 1 1 1 1 1 1 1 1 1 1 1 1 1 1 1 1 1 1 1 1]\n"
     ]
    }
   ],
   "source": [
    "print(y_l_1)\n",
    "print()\n",
    "print(y_r_1)"
   ]
  },
  {
   "cell_type": "code",
   "execution_count": 12,
   "metadata": {
    "scrolled": true
   },
   "outputs": [
    {
     "data": {
      "text/plain": [
       "{'j': 0, 'min_loss': 0.19444444444444445, 't': 1.1936901043683403}"
      ]
     },
     "execution_count": 12,
     "metadata": {},
     "output_type": "execute_result"
    }
   ],
   "source": [
    "best_dict_2, x_l_2, x_r_2, y_l_2, y_r_2 = data_split(x_r, y_r)\n",
    "best_dict_2"
   ]
  },
  {
   "cell_type": "code",
   "execution_count": 13,
   "metadata": {},
   "outputs": [
    {
     "name": "stdout",
     "output_type": "stream",
     "text": [
      "[0 0 1 0 1 1 0 0 0 0 0 0 0 0 0 0 0 1 0 0 1 0 0 0 0 0 0 0 0 0 0 0 0 1 0 0 0\n",
      " 1 0 0 0 0 0 0 0 0 0 0 0 0 0 0 0 0 0 0]\n",
      "\n",
      "[1 1 1 1 1 1 1]\n"
     ]
    }
   ],
   "source": [
    "print(y_l_2)\n",
    "print()\n",
    "print(y_r_2)"
   ]
  },
  {
   "cell_type": "code",
   "execution_count": 14,
   "metadata": {},
   "outputs": [],
   "source": [
    "def tree_clf_2(x):\n",
    "    y_pred = list()  \n",
    "    for it in x.transpose():\n",
    "        # Алгоритм классификации\n",
    "        if it[best_dict['j']] <= best_dict['t']:\n",
    "            if it[best_dict_1['j']] <= best_dict_1['t']:\n",
    "                y_pred.append(0)\n",
    "            else:\n",
    "                y_pred.append(1)\n",
    "        else:\n",
    "            if it[best_dict_2['j']] <= best_dict_2['t']:\n",
    "                y_pred.append(0)\n",
    "            else:\n",
    "                y_pred.append(1)\n",
    "            \n",
    "    return np.array(y_pred)"
   ]
  },
  {
   "cell_type": "code",
   "execution_count": 15,
   "metadata": {},
   "outputs": [
    {
     "data": {
      "text/plain": [
       "<matplotlib.collections.PathCollection at 0x7f0f60f085f8>"
      ]
     },
     "execution_count": 15,
     "metadata": {},
     "output_type": "execute_result"
    },
    {
     "data": {
      "image/png": "[encoded data removed]",
      "text/plain": [
       "<Figure size 432x288 with 1 Axes>"
      ]
     },
     "metadata": {},
     "output_type": "display_data"
    }
   ],
   "source": [
    "h = .02\n",
    "x0_min, x0_max = np.min(x[:,0]) - 1, np.max(x[:,0]) + 1\n",
    "x1_min, x1_max = np.min(x[:,1]) - 1, np.max(x[:,1]) + 1\n",
    "xx0, xx1 = np.meshgrid(np.arange(x0_min, x0_max, h),\n",
    "                         np.arange(x1_min, x1_max, h))\n",
    "\n",
    "Z = tree_clf_2(np.stack((xx0.ravel(),xx1.ravel())))\n",
    "\n",
    "Z = Z.reshape(xx0.shape)\n",
    "cm = plt.cm.RdBu\n",
    "\n",
    "plt.contourf(xx0, xx1, Z, cmap=cm, alpha=.8)\n",
    "plt.scatter(x[:,0], x[:,1], c = y)"
   ]
  },
  {
   "cell_type": "markdown",
   "metadata": {},
   "source": [
    "## Задание №2. Кросс-проверка и  подбор параметров для дерева решений"
   ]
  },
  {
   "cell_type": "markdown",
   "metadata": {},
   "source": [
    "В задании воспользуемся готовой функцией для построения дерева решений DecisionTreeClassifier. Использовать будем данные с платформы kaggle, где проводится классификация пациентов на здоровых ('Normal') и с заболеванием ('Abnormal'). Подробности о признаках тут: https://www.kaggle.com/uciml/biomechanical-features-of-orthopedic-patients/home\n",
    "Необходимо построить кросс-проверку (cross_val_score в sklearn.cross_validation ) алгоритма \"Дерево решений\" на 5 подвыборках, причем дерево должно не ограничиваться по глубине (max_depth), в листовой вершине дерева должен быть хотя бы один объект (min_samples_leaf), минимальное количество объектов должно быть не менее 2 для разбиения (min_samples_split) и random_state=42.\n",
    "Оцените результаты получившиеся на валидационной выборке с использованием F1-меры, точности и полноты (в параметре scoring к методу cross_val_score необходимо использовать 'f1_weighted', 'precision_weighted', 'recall_weighted'). \n",
    "\n",
    "Точность и полнота позволяют провести оценку классификации.\n",
    "Точность (Precision) - это отношение количества правильно классифицированных объектов класса к количеству объектов, которые классифицированы как данный класс.\n",
    "Полнота (Recall) - это отношение количества правильно классифицированных объектов класса к количеству объектов данного класса в тестовой выборке.\n",
    "Введем следующие понятия:\n",
    "\n",
    "$TP$  — истино-положительное решение;\n",
    "$TN$ — истино-отрицательное решение;\n",
    "$FP$ — ложно-положительное решение;\n",
    "$FN$ — ложно-отрицательное решение.\n",
    "\n",
    "Тогда \n",
    "\n",
    "$Precision = \\frac{TP}{TP+FP}$, \n",
    "\n",
    "$Recall = \\frac{TP}{TP+TN}$.\n",
    "\n",
    "Точность и полнота изменяются в интервале [0, 1]. Чем выше точность и полнота, тем лучше классификатор. Однако, по двум метрикам очень сложно чудить о качестве классификации, поэтому используют F1-меру:\n",
    "\n",
    "$F1 = \\frac{2 \\times Precision \\times Recall}{Precision + Recall}$\n",
    "\n",
    "В нашем задании будем использовать взвешенную сумму F1-меры, точности и полноты для каждого класса."
   ]
  },
  {
   "cell_type": "code",
   "execution_count": 16,
   "metadata": {},
   "outputs": [
    {
     "name": "stderr",
     "output_type": "stream",
     "text": [
      "/home/denis/Programs/anaconda3/lib/python3.6/site-packages/sklearn/cross_validation.py:41: DeprecationWarning: This module was deprecated in version 0.18 in favor of the model_selection module into which all the refactored classes and functions are moved. Also note that the interface of the new CV iterators are different from that of this module. This module will be removed in 0.20.\n",
      "  \"This module will be removed in 0.20.\", DeprecationWarning)\n"
     ]
    }
   ],
   "source": [
    "import pandas as pd\n",
    "from sklearn.tree import DecisionTreeClassifier\n",
    "from sklearn.cross_validation import cross_val_score\n",
    "from sklearn.metrics.classification import f1_score, precision_score, recall_score"
   ]
  },
  {
   "cell_type": "code",
   "execution_count": 17,
   "metadata": {},
   "outputs": [
    {
     "data": {
      "text/plain": [
       "Index(['pelvic_incidence', 'pelvic_tilt numeric', 'lumbar_lordosis_angle',\n",
       "       'sacral_slope', 'pelvic_radius', 'degree_spondylolisthesis', 'class'],\n",
       "      dtype='object')"
      ]
     },
     "execution_count": 17,
     "metadata": {},
     "output_type": "execute_result"
    }
   ],
   "source": [
    "df = pd.read_csv('column_2C_weka.csv')\n",
    "df.columns"
   ]
  },
  {
   "cell_type": "code",
   "execution_count": 18,
   "metadata": {},
   "outputs": [],
   "source": [
    "X = df.drop(columns=['class'])\n",
    "y = df['class']"
   ]
  },
  {
   "cell_type": "code",
   "execution_count": 19,
   "metadata": {},
   "outputs": [
    {
     "name": "stdout",
     "output_type": "stream",
     "text": [
      "[0.34579055 0.85647249 0.84919721]\n",
      "[0.68448859 0.8701984  0.85362211]\n",
      "[0.41346154 0.86407767 0.85436893]\n"
     ]
    }
   ],
   "source": [
    "model = DecisionTreeClassifier(random_state=42)\n",
    "\n",
    "for scoring in ['f1_weighted', 'precision_weighted', 'recall_weighted']:\n",
    "    print(cross_val_score(model, X, y, scoring=scoring))"
   ]
  },
  {
   "cell_type": "markdown",
   "metadata": {},
   "source": [
    "Следует отметить, что по одной метрике не очень удобно проводить оценку. В этой связи, лучшим вариантом кросс-проверки будет использование функции cross_validate из sklearn.model_selection. В нее можно передать несколько метрик и оценивать каждый шаг кросс проверки по нескольким метрикам, причем для тренировочного (return_train_score=True) и валидационного набора данных.\n",
    "Оцените результаты на тренировочном и тестовом наборе. Объясните получившиеся результаты.\n"
   ]
  },
  {
   "cell_type": "code",
   "execution_count": 20,
   "metadata": {},
   "outputs": [],
   "source": [
    "from sklearn.model_selection import cross_validate"
   ]
  },
  {
   "cell_type": "code",
   "execution_count": 21,
   "metadata": {
    "scrolled": true
   },
   "outputs": [
    {
     "data": {
      "text/plain": [
       "{'fit_time': array([0.00577903, 0.00311375, 0.00280046]),\n",
       " 'score_time': array([0.00567842, 0.00563169, 0.00418234]),\n",
       " 'test_f1_weighted': array([0.34579055, 0.85647249, 0.84919721]),\n",
       " 'train_f1_weighted': array([1., 1., 1.]),\n",
       " 'test_precision_weighted': array([0.68448859, 0.8701984 , 0.85362211]),\n",
       " 'train_precision_weighted': array([1., 1., 1.]),\n",
       " 'test_recall_weighted': array([0.41346154, 0.86407767, 0.85436893]),\n",
       " 'train_recall_weighted': array([1., 1., 1.])}"
      ]
     },
     "execution_count": 21,
     "metadata": {},
     "output_type": "execute_result"
    }
   ],
   "source": [
    "cross_validate(model, X, y,\n",
    "               scoring=['f1_weighted', 'precision_weighted', 'recall_weighted'],\n",
    "               return_train_score=True)"
   ]
  },
  {
   "cell_type": "markdown",
   "metadata": {},
   "source": [
    "- **Видимо на тренировочных данных происходит переобучение. А тестовые данные отличаются от тренировочных.**\n",
    "\n",
    "- **Показатели первого класса сильно хуже значений второго класса.**"
   ]
  },
  {
   "cell_type": "markdown",
   "metadata": {},
   "source": [
    "Подбор параметров для модели можно проводить с помощью GridSearchCV из sklearn.model_selection. Возьмите параметр максимальной глубины дерева от 1 до 20. Относительно этого параметра вычислите средевзвешенную F1-меру для 5 разбиений. Постройте график зависимости F1-меры от максимальной глубины дерева. Получить результаты построения можно методом cv_results_.\n",
    "\n",
    "Проведите оценку результатов. Почему на тестовой выборке F1-мера не увеличивается. "
   ]
  },
  {
   "cell_type": "code",
   "execution_count": 22,
   "metadata": {},
   "outputs": [],
   "source": [
    "from sklearn.model_selection import GridSearchCV"
   ]
  },
  {
   "cell_type": "code",
   "execution_count": 23,
   "metadata": {
    "scrolled": true
   },
   "outputs": [
    {
     "data": {
      "image/png": "[encoded data removed]",
      "text/plain": [
       "<Figure size 432x288 with 1 Axes>"
      ]
     },
     "metadata": {},
     "output_type": "display_data"
    }
   ],
   "source": [
    "parameters = {'max_depth': range(1, 21)}\n",
    "clf = GridSearchCV(model, parameters, cv=5, scoring='f1_weighted', return_train_score=False)\n",
    "clf.fit(X, y)\n",
    "results = clf.cv_results_\n",
    "\n",
    "plt.plot(range(1, 21), results['mean_test_score'])\n",
    "plt.show()"
   ]
  },
  {
   "cell_type": "markdown",
   "metadata": {},
   "source": [
    "- **От 1 до 10 происходит калибровка параметра (лучший результат достигается при значении 3).**\n",
    "\n",
    "- **После 10 нет изменений, потому что дерево достигло своего \"пика\" и дальше глубже просто не идет.**\n",
    "\n",
    "- **Чем глубже дерево, тем больше оно переобучается. Скорее всего роста на тесте при бОльшей глубине нет по этой причине.**"
   ]
  },
  {
   "cell_type": "markdown",
   "metadata": {},
   "source": [
    "То же самое проведите для параметра min_samples_split от 2 до 20.\n",
    "\n",
    "Проведите оценку результатов. "
   ]
  },
  {
   "cell_type": "code",
   "execution_count": 24,
   "metadata": {
    "scrolled": true
   },
   "outputs": [
    {
     "data": {
      "image/png": "[encoded data removed]",
      "text/plain": [
       "<Figure size 432x288 with 1 Axes>"
      ]
     },
     "metadata": {},
     "output_type": "display_data"
    }
   ],
   "source": [
    "parameters_2 = {'min_samples_split': range(2, 21)}\n",
    "clf_2 = GridSearchCV(model, parameters_2, cv=5, scoring='f1_weighted', return_train_score=False)\n",
    "clf_2.fit(X, y)\n",
    "results_2 = clf_2.cv_results_\n",
    "\n",
    "plt.plot(range(2, 21), results_2['mean_test_score'])\n",
    "plt.show()"
   ]
  },
  {
   "cell_type": "markdown",
   "metadata": {},
   "source": [
    "- **Лучший результат при 9.**\n",
    "- **При малых значениях плохо делятся объекты на группы (можно за раз отделять по 2 объекта из миллиарда, но это больше похоже на переобучение).**\n",
    "- **Если делить за раз слишком большое количество объектов, то плохо могут выделяться группы.**"
   ]
  },
  {
   "cell_type": "markdown",
   "metadata": {},
   "source": [
    "То же самое проведите для параметра min_samples_leaf от 1 до 10.\n",
    "\n",
    "Проведите оценку результатов. "
   ]
  },
  {
   "cell_type": "code",
   "execution_count": 25,
   "metadata": {},
   "outputs": [
    {
     "data": {
      "image/png": "[encoded data removed]",
      "text/plain": [
       "<Figure size 432x288 with 1 Axes>"
      ]
     },
     "metadata": {},
     "output_type": "display_data"
    }
   ],
   "source": [
    "parameters_3 = {'min_samples_leaf': range(1, 11)}\n",
    "clf_3 = GridSearchCV(model, parameters_3, cv=5, scoring='f1_weighted', return_train_score=False)\n",
    "clf_3.fit(X, y)\n",
    "results_3 = clf_3.cv_results_\n",
    "\n",
    "plt.plot(range(1, 11), results_3['mean_test_score'])\n",
    "plt.show()"
   ]
  },
  {
   "cell_type": "markdown",
   "metadata": {},
   "source": [
    "- **Лучший результат при 5.**\n",
    "- **При слишком малых значениях происходит переобучение (по листку на объект). При слишком больших листах могут плохо выделяться группы объектов.**"
   ]
  }
 ],
 "metadata": {
  "kernelspec": {
   "display_name": "Python 3",
   "language": "python",
   "name": "python3"
  },
  "language_info": {
   "codemirror_mode": {
    "name": "ipython",
    "version": 3
   },
   "file_extension": ".py",
   "mimetype": "text/x-python",
   "name": "python",
   "nbconvert_exporter": "python",
   "pygments_lexer": "ipython3",
   "version": "3.6.5"
  }
 },
 "nbformat": 4,
 "nbformat_minor": 2
}
